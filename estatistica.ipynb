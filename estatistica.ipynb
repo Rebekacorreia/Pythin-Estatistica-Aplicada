{
 "cells": [
  {
   "cell_type": "code",
   "execution_count": 3,
   "id": "5d93d7cc",
   "metadata": {},
   "outputs": [],
   "source": [
    "import pandas as pd"
   ]
  },
  {
   "cell_type": "code",
   "execution_count": 4,
   "id": "e35cefa9",
   "metadata": {},
   "outputs": [
    {
     "data": {
      "text/plain": [
       "'2.3.1'"
      ]
     },
     "execution_count": 4,
     "metadata": {},
     "output_type": "execute_result"
    }
   ],
   "source": [
    "pd.__version__"
   ]
  },
  {
   "cell_type": "markdown",
   "id": "0ca86fca",
   "metadata": {},
   "source": [
    "## Definindo os Dados \n",
    "-Code TI"
   ]
  },
  {
   "cell_type": "code",
   "execution_count": 5,
   "id": "7c2b1c41",
   "metadata": {},
   "outputs": [],
   "source": [
    "dict_metrics = {\"idade\": [15,18,25,26,40,40,58,60],\n",
    "                \"altura\": [160,165,149,168,172,174,174,178]}"
   ]
  },
  {
   "cell_type": "code",
   "execution_count": 6,
   "id": "f3b4493d",
   "metadata": {},
   "outputs": [
    {
     "data": {
      "text/plain": [
       "dict"
      ]
     },
     "execution_count": 6,
     "metadata": {},
     "output_type": "execute_result"
    }
   ],
   "source": [
    "type(dict_metrics)\n",
    "#dict = dicionário"
   ]
  },
  {
   "cell_type": "code",
   "execution_count": 7,
   "id": "ef27e0f2",
   "metadata": {},
   "outputs": [],
   "source": [
    "df = pd.DataFrame(dict_metrics)"
   ]
  },
  {
   "cell_type": "code",
   "execution_count": 8,
   "id": "e06be6c7",
   "metadata": {},
   "outputs": [
    {
     "data": {
      "text/plain": [
       "pandas.core.frame.DataFrame"
      ]
     },
     "execution_count": 8,
     "metadata": {},
     "output_type": "execute_result"
    }
   ],
   "source": [
    "type(df)"
   ]
  },
  {
   "cell_type": "code",
   "execution_count": 9,
   "id": "e933f5ad",
   "metadata": {},
   "outputs": [
    {
     "data": {
      "text/html": [
       "<div>\n",
       "<style scoped>\n",
       "    .dataframe tbody tr th:only-of-type {\n",
       "        vertical-align: middle;\n",
       "    }\n",
       "\n",
       "    .dataframe tbody tr th {\n",
       "        vertical-align: top;\n",
       "    }\n",
       "\n",
       "    .dataframe thead th {\n",
       "        text-align: right;\n",
       "    }\n",
       "</style>\n",
       "<table border=\"1\" class=\"dataframe\">\n",
       "  <thead>\n",
       "    <tr style=\"text-align: right;\">\n",
       "      <th></th>\n",
       "      <th>idade</th>\n",
       "      <th>altura</th>\n",
       "    </tr>\n",
       "  </thead>\n",
       "  <tbody>\n",
       "    <tr>\n",
       "      <th>0</th>\n",
       "      <td>15</td>\n",
       "      <td>160</td>\n",
       "    </tr>\n",
       "    <tr>\n",
       "      <th>1</th>\n",
       "      <td>18</td>\n",
       "      <td>165</td>\n",
       "    </tr>\n",
       "    <tr>\n",
       "      <th>2</th>\n",
       "      <td>25</td>\n",
       "      <td>149</td>\n",
       "    </tr>\n",
       "    <tr>\n",
       "      <th>3</th>\n",
       "      <td>26</td>\n",
       "      <td>168</td>\n",
       "    </tr>\n",
       "    <tr>\n",
       "      <th>4</th>\n",
       "      <td>40</td>\n",
       "      <td>172</td>\n",
       "    </tr>\n",
       "    <tr>\n",
       "      <th>5</th>\n",
       "      <td>40</td>\n",
       "      <td>174</td>\n",
       "    </tr>\n",
       "    <tr>\n",
       "      <th>6</th>\n",
       "      <td>58</td>\n",
       "      <td>174</td>\n",
       "    </tr>\n",
       "    <tr>\n",
       "      <th>7</th>\n",
       "      <td>60</td>\n",
       "      <td>178</td>\n",
       "    </tr>\n",
       "  </tbody>\n",
       "</table>\n",
       "</div>"
      ],
      "text/plain": [
       "   idade  altura\n",
       "0     15     160\n",
       "1     18     165\n",
       "2     25     149\n",
       "3     26     168\n",
       "4     40     172\n",
       "5     40     174\n",
       "6     58     174\n",
       "7     60     178"
      ]
     },
     "execution_count": 9,
     "metadata": {},
     "output_type": "execute_result"
    }
   ],
   "source": [
    "df"
   ]
  },
  {
   "cell_type": "markdown",
   "id": "c46d9bf2",
   "metadata": {},
   "source": [
    "### Medidas de posição\n",
    "- Média: Soma de todos os valores dividida pelo número de valores. Mais comum de tendência central, pode ser sensível a valores extremos\n",
    "- Mediana: É o valor do meio quando os dados estão ordenados. Ela não sofre por valores externos.\n",
    "- Moda: É o valor com mais repetições. É útil em dados categóricos ou quando deseja-se identificar valores com maior frequência."
   ]
  },
  {
   "cell_type": "code",
   "execution_count": 10,
   "id": "7e11b93f",
   "metadata": {},
   "outputs": [
    {
     "data": {
      "text/plain": [
       "0    15\n",
       "1    18\n",
       "2    25\n",
       "3    26\n",
       "4    40\n",
       "5    40\n",
       "6    58\n",
       "7    60\n",
       "Name: idade, dtype: int64"
      ]
     },
     "execution_count": 10,
     "metadata": {},
     "output_type": "execute_result"
    }
   ],
   "source": [
    "df[\"idade\"]"
   ]
  },
  {
   "cell_type": "code",
   "execution_count": 11,
   "id": "e596f048",
   "metadata": {},
   "outputs": [
    {
     "name": "stdout",
     "output_type": "stream",
     "text": [
      "Média de idade: 35.25\n",
      "Média da altura: 167.5\n"
     ]
    }
   ],
   "source": [
    "#media idade\n",
    "print(f\"Média de idade: {df[\"idade\"].mean()}\")\n",
    "#media altura\n",
    "print(f\"Média da altura: {df[\"altura\"].mean()}\")"
   ]
  },
  {
   "cell_type": "code",
   "execution_count": 12,
   "id": "f45a0396",
   "metadata": {},
   "outputs": [
    {
     "name": "stdout",
     "output_type": "stream",
     "text": [
      "Mediana de idade: 33.0\n",
      "Moda de altura: 170.0\n"
     ]
    }
   ],
   "source": [
    "#mediana idade\n",
    "print(f\"Mediana de idade: {df[\"idade\"].median()}\")\n",
    "#mediana altura\n",
    "print(f\"Moda de altura: {df[\"altura\"].median()}\")"
   ]
  },
  {
   "cell_type": "code",
   "execution_count": 13,
   "id": "ae11c92e",
   "metadata": {},
   "outputs": [
    {
     "name": "stdout",
     "output_type": "stream",
     "text": [
      "Moda de idade: 0    40\n",
      "Name: idade, dtype: int64\n",
      "Moda de altura: 0    174\n",
      "Name: altura, dtype: int64\n"
     ]
    }
   ],
   "source": [
    "#moda idade\n",
    "print(f\"Moda de idade: {df[\"idade\"].mode()}\")\n",
    "#moda altura\n",
    "print(f\"Moda de altura: {df[\"altura\"].mode()}\")"
   ]
  },
  {
   "cell_type": "markdown",
   "id": "ec382a3c",
   "metadata": {},
   "source": [
    "### Medidas de Dispersão\n",
    "- Variância: Média dos quadrados entre cada valor e a média. Informa a distância dos valores da média.\n",
    "- Desvio Padrão: Raiz quadrada da variância. Expressa a dispersão em termos da mesma unidade dos dados.\n",
    "- Coeficiente de variação: Desvio padrão dividido pela média, expresso em porcentagem. Indica a variabilidade relativa dos dados em relação a média."
   ]
  },
  {
   "cell_type": "code",
   "execution_count": 14,
   "id": "79dda2f7",
   "metadata": {},
   "outputs": [
    {
     "name": "stdout",
     "output_type": "stream",
     "text": [
      "Variância de idade: 296.2142857142857\n",
      "Variância de altura: 88.57142857142857\n"
     ]
    }
   ],
   "source": [
    "#variância de idade\n",
    "print(f\"Variância de idade: {df[\"idade\"].var()}\")\n",
    "#variância de altura\n",
    "print(f\"Variância de altura: {df[\"altura\"].var()}\")"
   ]
  },
  {
   "cell_type": "code",
   "execution_count": 15,
   "id": "09069aaf",
   "metadata": {},
   "outputs": [
    {
     "name": "stdout",
     "output_type": "stream",
     "text": [
      "Desvio padrão de idade 17.210876959477854\n",
      "Desvio padrão de altura: 9.411239481143202\n"
     ]
    }
   ],
   "source": [
    "#Desvio padrão de idade\n",
    "print(f\"Desvio padrão de idade {df[\"idade\"].std()}\")\n",
    "#desvio padrão de altura\n",
    "print(f\"Desvio padrão de altura: {df[\"altura\"].std()}\")\n"
   ]
  },
  {
   "cell_type": "code",
   "execution_count": 16,
   "id": "32a523d6",
   "metadata": {},
   "outputs": [
    {
     "data": {
      "text/plain": [
       "np.float64(48.82518286376696)"
      ]
     },
     "execution_count": 16,
     "metadata": {},
     "output_type": "execute_result"
    }
   ],
   "source": [
    "#Coeficiciente de variação de idade\n",
    "df[\"idade\"].std() / df[\"idade\"].mean() * 100"
   ]
  },
  {
   "cell_type": "code",
   "execution_count": 17,
   "id": "7329704b",
   "metadata": {},
   "outputs": [
    {
     "data": {
      "text/plain": [
       "np.float64(5.618650436503405)"
      ]
     },
     "execution_count": 17,
     "metadata": {},
     "output_type": "execute_result"
    }
   ],
   "source": [
    "#Coeficiciente de variação de altura\n",
    "df[\"altura\"].std() / df[\"altura\"].mean() * 100"
   ]
  },
  {
   "cell_type": "markdown",
   "id": "5f1ae2c6",
   "metadata": {},
   "source": [
    "### Medidas de Forma (distribuição dos Dados)\n",
    "- Assimetria: Indica o grau e direção da distorção da distribuição em relação a média. Se Positiva, indica a cauda direita a distribuição mais longa, o oposto, indica a causa esquerda mais longa\n",
    "- Curtose: Mede o pico ou \"pontuação\" da distribuição. Uma curtose alta indica uma distribuição mais concentrada, o oposto indica a distribuição achatada"
   ]
  },
  {
   "cell_type": "code",
   "execution_count": 18,
   "id": "d5324598",
   "metadata": {},
   "outputs": [
    {
     "data": {
      "text/html": [
       "<div>\n",
       "<style scoped>\n",
       "    .dataframe tbody tr th:only-of-type {\n",
       "        vertical-align: middle;\n",
       "    }\n",
       "\n",
       "    .dataframe tbody tr th {\n",
       "        vertical-align: top;\n",
       "    }\n",
       "\n",
       "    .dataframe thead th {\n",
       "        text-align: right;\n",
       "    }\n",
       "</style>\n",
       "<table border=\"1\" class=\"dataframe\">\n",
       "  <thead>\n",
       "    <tr style=\"text-align: right;\">\n",
       "      <th></th>\n",
       "      <th>idade</th>\n",
       "      <th>altura</th>\n",
       "    </tr>\n",
       "  </thead>\n",
       "  <tbody>\n",
       "    <tr>\n",
       "      <th>0</th>\n",
       "      <td>15</td>\n",
       "      <td>160</td>\n",
       "    </tr>\n",
       "    <tr>\n",
       "      <th>1</th>\n",
       "      <td>18</td>\n",
       "      <td>165</td>\n",
       "    </tr>\n",
       "    <tr>\n",
       "      <th>2</th>\n",
       "      <td>25</td>\n",
       "      <td>149</td>\n",
       "    </tr>\n",
       "    <tr>\n",
       "      <th>3</th>\n",
       "      <td>26</td>\n",
       "      <td>168</td>\n",
       "    </tr>\n",
       "    <tr>\n",
       "      <th>4</th>\n",
       "      <td>40</td>\n",
       "      <td>172</td>\n",
       "    </tr>\n",
       "    <tr>\n",
       "      <th>5</th>\n",
       "      <td>40</td>\n",
       "      <td>174</td>\n",
       "    </tr>\n",
       "    <tr>\n",
       "      <th>6</th>\n",
       "      <td>58</td>\n",
       "      <td>174</td>\n",
       "    </tr>\n",
       "    <tr>\n",
       "      <th>7</th>\n",
       "      <td>60</td>\n",
       "      <td>178</td>\n",
       "    </tr>\n",
       "  </tbody>\n",
       "</table>\n",
       "</div>"
      ],
      "text/plain": [
       "   idade  altura\n",
       "0     15     160\n",
       "1     18     165\n",
       "2     25     149\n",
       "3     26     168\n",
       "4     40     172\n",
       "5     40     174\n",
       "6     58     174\n",
       "7     60     178"
      ]
     },
     "execution_count": 18,
     "metadata": {},
     "output_type": "execute_result"
    }
   ],
   "source": [
    "df"
   ]
  },
  {
   "cell_type": "code",
   "execution_count": 19,
   "id": "04afb7e3",
   "metadata": {},
   "outputs": [
    {
     "name": "stdout",
     "output_type": "stream",
     "text": [
      "Assimetria de idade: 0.44254516049230713\n",
      "Assimetria de altura: -1.1359101638062434\n"
     ]
    }
   ],
   "source": [
    "#assimetria de idade foi positiva porque os valores maiores estão mais espalhados\n",
    "print(f\"Assimetria de idade: {df[\"idade\"].skew()}\")\n",
    "#assimetria de altura foi negativa porque os valores maiores estão mais próximos\n",
    "print(f\"Assimetria de altura: {df[\"altura\"].skew()}\")"
   ]
  },
  {
   "cell_type": "code",
   "execution_count": 20,
   "id": "1d21ae35",
   "metadata": {},
   "outputs": [
    {
     "name": "stdout",
     "output_type": "stream",
     "text": [
      "Curtose de idade: -1.3083027995345171\n",
      "Curtose de altura: 1.064502601456815\n"
     ]
    }
   ],
   "source": [
    "#Curtose de idade negativa, dados mais espalhados\n",
    "print(f\"Curtose de idade: {df[\"idade\"].kurtosis()}\")\n",
    "#Curtose de altura positiva, dados mais concentrados na média\n",
    "print(f\"Curtose de altura: {df[\"altura\"].kurtosis()}\")"
   ]
  },
  {
   "cell_type": "code",
   "execution_count": 21,
   "id": "d70a0685",
   "metadata": {},
   "outputs": [
    {
     "data": {
      "text/html": [
       "<div>\n",
       "<style scoped>\n",
       "    .dataframe tbody tr th:only-of-type {\n",
       "        vertical-align: middle;\n",
       "    }\n",
       "\n",
       "    .dataframe tbody tr th {\n",
       "        vertical-align: top;\n",
       "    }\n",
       "\n",
       "    .dataframe thead th {\n",
       "        text-align: right;\n",
       "    }\n",
       "</style>\n",
       "<table border=\"1\" class=\"dataframe\">\n",
       "  <thead>\n",
       "    <tr style=\"text-align: right;\">\n",
       "      <th></th>\n",
       "      <th>idade</th>\n",
       "      <th>altura</th>\n",
       "    </tr>\n",
       "  </thead>\n",
       "  <tbody>\n",
       "    <tr>\n",
       "      <th>count</th>\n",
       "      <td>8.000000</td>\n",
       "      <td>8.000000</td>\n",
       "    </tr>\n",
       "    <tr>\n",
       "      <th>mean</th>\n",
       "      <td>35.250000</td>\n",
       "      <td>167.500000</td>\n",
       "    </tr>\n",
       "    <tr>\n",
       "      <th>std</th>\n",
       "      <td>17.210877</td>\n",
       "      <td>9.411239</td>\n",
       "    </tr>\n",
       "    <tr>\n",
       "      <th>min</th>\n",
       "      <td>15.000000</td>\n",
       "      <td>149.000000</td>\n",
       "    </tr>\n",
       "    <tr>\n",
       "      <th>25%</th>\n",
       "      <td>23.250000</td>\n",
       "      <td>163.750000</td>\n",
       "    </tr>\n",
       "    <tr>\n",
       "      <th>50%</th>\n",
       "      <td>33.000000</td>\n",
       "      <td>170.000000</td>\n",
       "    </tr>\n",
       "    <tr>\n",
       "      <th>75%</th>\n",
       "      <td>44.500000</td>\n",
       "      <td>174.000000</td>\n",
       "    </tr>\n",
       "    <tr>\n",
       "      <th>max</th>\n",
       "      <td>60.000000</td>\n",
       "      <td>178.000000</td>\n",
       "    </tr>\n",
       "  </tbody>\n",
       "</table>\n",
       "</div>"
      ],
      "text/plain": [
       "           idade      altura\n",
       "count   8.000000    8.000000\n",
       "mean   35.250000  167.500000\n",
       "std    17.210877    9.411239\n",
       "min    15.000000  149.000000\n",
       "25%    23.250000  163.750000\n",
       "50%    33.000000  170.000000\n",
       "75%    44.500000  174.000000\n",
       "max    60.000000  178.000000"
      ]
     },
     "execution_count": 21,
     "metadata": {},
     "output_type": "execute_result"
    }
   ],
   "source": [
    "df.describe()"
   ]
  },
  {
   "cell_type": "markdown",
   "id": "001b627f",
   "metadata": {},
   "source": [
    "### Correlação\n",
    "- Mede a relação entre duas variáveis, se positiva (aumentam juntas). Gráfico de dispersão, se positivas elas aumentam juntas, negativas uma aumenta enquanto outra diminui. Ou não há correlação.\n",
    "- Ajuda a selecionar características relevantes para modelos, melhorando a precisão e a interpretabilidade."
   ]
  },
  {
   "cell_type": "markdown",
   "id": "0385a972",
   "metadata": {},
   "source": [
    "### Índices de Correlação\n",
    "- Coeficiente de Pearson: Mede a relação linear entre duas variáveis, variando de -1 aaté 1 e 0 para nenhuma relação.\n",
    "- Coeficiente de Spearman: É útil quando os dados não tem relação linear clara ou quando as variáveis não são numéricamente escalonáveis.\n",
    "- Pearson = relação linear e variáveis contínuas\n",
    "- Spearman= para relação não linear, ordinais ou com outliers."
   ]
  },
  {
   "cell_type": "code",
   "execution_count": 22,
   "id": "5f70af25",
   "metadata": {},
   "outputs": [
    {
     "data": {
      "text/html": [
       "<div>\n",
       "<style scoped>\n",
       "    .dataframe tbody tr th:only-of-type {\n",
       "        vertical-align: middle;\n",
       "    }\n",
       "\n",
       "    .dataframe tbody tr th {\n",
       "        vertical-align: top;\n",
       "    }\n",
       "\n",
       "    .dataframe thead th {\n",
       "        text-align: right;\n",
       "    }\n",
       "</style>\n",
       "<table border=\"1\" class=\"dataframe\">\n",
       "  <thead>\n",
       "    <tr style=\"text-align: right;\">\n",
       "      <th></th>\n",
       "      <th>idade</th>\n",
       "      <th>altura</th>\n",
       "    </tr>\n",
       "  </thead>\n",
       "  <tbody>\n",
       "    <tr>\n",
       "      <th>idade</th>\n",
       "      <td>1.000000</td>\n",
       "      <td>0.740852</td>\n",
       "    </tr>\n",
       "    <tr>\n",
       "      <th>altura</th>\n",
       "      <td>0.740852</td>\n",
       "      <td>1.000000</td>\n",
       "    </tr>\n",
       "  </tbody>\n",
       "</table>\n",
       "</div>"
      ],
      "text/plain": [
       "           idade    altura\n",
       "idade   1.000000  0.740852\n",
       "altura  0.740852  1.000000"
      ]
     },
     "execution_count": 22,
     "metadata": {},
     "output_type": "execute_result"
    }
   ],
   "source": [
    "df.corr(method=\"pearson\")"
   ]
  },
  {
   "cell_type": "code",
   "execution_count": 23,
   "id": "717ed298",
   "metadata": {},
   "outputs": [
    {
     "data": {
      "text/html": [
       "<div>\n",
       "<style scoped>\n",
       "    .dataframe tbody tr th:only-of-type {\n",
       "        vertical-align: middle;\n",
       "    }\n",
       "\n",
       "    .dataframe tbody tr th {\n",
       "        vertical-align: top;\n",
       "    }\n",
       "\n",
       "    .dataframe thead th {\n",
       "        text-align: right;\n",
       "    }\n",
       "</style>\n",
       "<table border=\"1\" class=\"dataframe\">\n",
       "  <thead>\n",
       "    <tr style=\"text-align: right;\">\n",
       "      <th></th>\n",
       "      <th>idade</th>\n",
       "      <th>altura</th>\n",
       "    </tr>\n",
       "  </thead>\n",
       "  <tbody>\n",
       "    <tr>\n",
       "      <th>idade</th>\n",
       "      <td>1.000000</td>\n",
       "      <td>0.909639</td>\n",
       "    </tr>\n",
       "    <tr>\n",
       "      <th>altura</th>\n",
       "      <td>0.909639</td>\n",
       "      <td>1.000000</td>\n",
       "    </tr>\n",
       "  </tbody>\n",
       "</table>\n",
       "</div>"
      ],
      "text/plain": [
       "           idade    altura\n",
       "idade   1.000000  0.909639\n",
       "altura  0.909639  1.000000"
      ]
     },
     "execution_count": 23,
     "metadata": {},
     "output_type": "execute_result"
    }
   ],
   "source": [
    "df.corr(method=\"spearman\")"
   ]
  },
  {
   "cell_type": "code",
   "execution_count": 24,
   "id": "f05b1b28",
   "metadata": {},
   "outputs": [
    {
     "data": {
      "text/plain": [
       "np.float64(0.7408519382898473)"
      ]
     },
     "execution_count": 24,
     "metadata": {},
     "output_type": "execute_result"
    }
   ],
   "source": [
    "#Em caso de uma tabela com muita variáveis, fazer a correlação entre colunas é mais interessante desse jeito abaixo:\n",
    "df[\"idade\"].corr(df[\"altura\"], method=\"pearson\")"
   ]
  },
  {
   "cell_type": "code",
   "execution_count": 25,
   "id": "beda0ccc",
   "metadata": {},
   "outputs": [
    {
     "data": {
      "text/plain": [
       "np.float64(0.9096385542168675)"
      ]
     },
     "execution_count": 25,
     "metadata": {},
     "output_type": "execute_result"
    }
   ],
   "source": [
    "#pip install scipyl, caso necessário\n",
    "df[\"idade\"].corr(df[\"altura\"], method=\"spearman\")"
   ]
  },
  {
   "cell_type": "markdown",
   "id": "6406507d",
   "metadata": {},
   "source": [
    "### Histograma"
   ]
  },
  {
   "cell_type": "code",
   "execution_count": 26,
   "id": "79b86828",
   "metadata": {},
   "outputs": [
    {
     "data": {
      "text/plain": [
       "<Axes: >"
      ]
     },
     "execution_count": 26,
     "metadata": {},
     "output_type": "execute_result"
    },
    {
     "data": {
      "image/png": "[encoded data removed]",
      "text/plain": [
       "<Figure size 640x480 with 1 Axes>"
      ]
     },
     "metadata": {},
     "output_type": "display_data"
    }
   ],
   "source": [
    "df[\"idade\"].hist()"
   ]
  },
  {
   "cell_type": "code",
   "execution_count": 27,
   "id": "162da7a8",
   "metadata": {},
   "outputs": [
    {
     "data": {
      "text/plain": [
       "<Axes: >"
      ]
     },
     "execution_count": 27,
     "metadata": {},
     "output_type": "execute_result"
    },
    {
     "data": {
      "image/png": "[encoded data removed]",
      "text/plain": [
       "<Figure size 640x480 with 1 Axes>"
      ]
     },
     "metadata": {},
     "output_type": "display_data"
    }
   ],
   "source": [
    "df[\"altura\"].hist()"
   ]
  },
  {
   "cell_type": "markdown",
   "id": "ce19ef7c",
   "metadata": {},
   "source": [
    "### Boxplot"
   ]
  },
  {
   "cell_type": "code",
   "execution_count": 28,
   "id": "394e035a",
   "metadata": {},
   "outputs": [
    {
     "data": {
      "text/plain": [
       "<Axes: >"
      ]
     },
     "execution_count": 28,
     "metadata": {},
     "output_type": "execute_result"
    },
    {
     "data": {
      "image/png": "[encoded data removed]",
      "text/plain": [
       "<Figure size 640x480 with 1 Axes>"
      ]
     },
     "metadata": {},
     "output_type": "display_data"
    }
   ],
   "source": [
    "df[\"idade\"].plot.box()"
   ]
  },
  {
   "cell_type": "code",
   "execution_count": 29,
   "id": "4f360ea1",
   "metadata": {},
   "outputs": [
    {
     "data": {
      "text/plain": [
       "<Axes: >"
      ]
     },
     "execution_count": 29,
     "metadata": {},
     "output_type": "execute_result"
    },
    {
     "data": {
      "image/png": "[encoded data removed]",
      "text/plain": [
       "<Figure size 640x480 with 1 Axes>"
      ]
     },
     "metadata": {},
     "output_type": "display_data"
    }
   ],
   "source": [
    "df[\"altura\"].plot.box()"
   ]
  },
  {
   "cell_type": "markdown",
   "id": "34b57777",
   "metadata": {},
   "source": [
    "### Scatter Plot\n",
    "ou gráfico de dispersão"
   ]
  },
  {
   "cell_type": "code",
   "execution_count": 30,
   "id": "7e4519ae",
   "metadata": {},
   "outputs": [
    {
     "data": {
      "text/plain": [
       "<Axes: xlabel='idade', ylabel='altura'>"
      ]
     },
     "execution_count": 30,
     "metadata": {},
     "output_type": "execute_result"
    },
    {
     "data": {
      "image/png": "[encoded data removed]",
      "text/plain": [
       "<Figure size 640x480 with 1 Axes>"
      ]
     },
     "metadata": {},
     "output_type": "display_data"
    }
   ],
   "source": [
    "df.plot.scatter(x=\"idade\", y=\"altura\")"
   ]
  },
  {
   "cell_type": "markdown",
   "id": "ad333c39",
   "metadata": {},
   "source": [
    "### Gráfico de barras"
   ]
  },
  {
   "cell_type": "code",
   "execution_count": 31,
   "id": "f4a433be",
   "metadata": {},
   "outputs": [],
   "source": [
    "dic_vendas = {\"categoria\" :[\"eletrodoméstico\", \"games\", \"livros\", \"casa\"],\n",
    "              \"valor\": [20000, 50000, 10000, 200000],\n",
    "              \"qtd\": [200, 500, 300, 1500]}"
   ]
  },
  {
   "cell_type": "code",
   "execution_count": 32,
   "id": "b7ee2a90",
   "metadata": {},
   "outputs": [],
   "source": [
    "df_vendas = pd.DataFrame(dic_vendas)"
   ]
  },
  {
   "cell_type": "code",
   "execution_count": 33,
   "id": "24533b2c",
   "metadata": {},
   "outputs": [
    {
     "data": {
      "text/html": [
       "<div>\n",
       "<style scoped>\n",
       "    .dataframe tbody tr th:only-of-type {\n",
       "        vertical-align: middle;\n",
       "    }\n",
       "\n",
       "    .dataframe tbody tr th {\n",
       "        vertical-align: top;\n",
       "    }\n",
       "\n",
       "    .dataframe thead th {\n",
       "        text-align: right;\n",
       "    }\n",
       "</style>\n",
       "<table border=\"1\" class=\"dataframe\">\n",
       "  <thead>\n",
       "    <tr style=\"text-align: right;\">\n",
       "      <th></th>\n",
       "      <th>categoria</th>\n",
       "      <th>valor</th>\n",
       "      <th>qtd</th>\n",
       "    </tr>\n",
       "  </thead>\n",
       "  <tbody>\n",
       "    <tr>\n",
       "      <th>0</th>\n",
       "      <td>eletrodoméstico</td>\n",
       "      <td>20000</td>\n",
       "      <td>200</td>\n",
       "    </tr>\n",
       "    <tr>\n",
       "      <th>1</th>\n",
       "      <td>games</td>\n",
       "      <td>50000</td>\n",
       "      <td>500</td>\n",
       "    </tr>\n",
       "    <tr>\n",
       "      <th>2</th>\n",
       "      <td>livros</td>\n",
       "      <td>10000</td>\n",
       "      <td>300</td>\n",
       "    </tr>\n",
       "    <tr>\n",
       "      <th>3</th>\n",
       "      <td>casa</td>\n",
       "      <td>200000</td>\n",
       "      <td>1500</td>\n",
       "    </tr>\n",
       "  </tbody>\n",
       "</table>\n",
       "</div>"
      ],
      "text/plain": [
       "         categoria   valor   qtd\n",
       "0  eletrodoméstico   20000   200\n",
       "1            games   50000   500\n",
       "2           livros   10000   300\n",
       "3             casa  200000  1500"
      ]
     },
     "execution_count": 33,
     "metadata": {},
     "output_type": "execute_result"
    }
   ],
   "source": [
    "df_vendas"
   ]
  },
  {
   "cell_type": "code",
   "execution_count": 34,
   "id": "9acbd6af",
   "metadata": {},
   "outputs": [
    {
     "data": {
      "text/plain": [
       "categoria    object\n",
       "valor         int64\n",
       "qtd           int64\n",
       "dtype: object"
      ]
     },
     "execution_count": 34,
     "metadata": {},
     "output_type": "execute_result"
    }
   ],
   "source": [
    "df_vendas.dtypes"
   ]
  },
  {
   "cell_type": "code",
   "execution_count": 35,
   "id": "52610397",
   "metadata": {},
   "outputs": [
    {
     "data": {
      "text/plain": [
       "<Axes: xlabel='categoria'>"
      ]
     },
     "execution_count": 35,
     "metadata": {},
     "output_type": "execute_result"
    },
    {
     "data": {
      "image/png": "[encoded data removed]",
      "text/plain": [
       "<Figure size 640x480 with 1 Axes>"
      ]
     },
     "metadata": {},
     "output_type": "display_data"
    }
   ],
   "source": [
    "df_vendas.plot.bar(x= \"categoria\", y=\"valor\")"
   ]
  },
  {
   "cell_type": "code",
   "execution_count": 36,
   "id": "e7713cfa",
   "metadata": {},
   "outputs": [
    {
     "data": {
      "text/plain": [
       "<Axes: xlabel='categoria'>"
      ]
     },
     "execution_count": 36,
     "metadata": {},
     "output_type": "execute_result"
    },
    {
     "data": {
      "image/png": "[encoded data removed]",
      "text/plain": [
       "<Figure size 640x480 with 1 Axes>"
      ]
     },
     "metadata": {},
     "output_type": "display_data"
    }
   ],
   "source": [
    "df_vendas.sort_values(\"valor\", ascending=False).plot.bar(x=\"categoria\", y=\"valor\")"
   ]
  },
  {
   "cell_type": "code",
   "execution_count": 37,
   "id": "b22148cb",
   "metadata": {},
   "outputs": [
    {
     "data": {
      "text/plain": [
       "<Axes: ylabel='categoria'>"
      ]
     },
     "execution_count": 37,
     "metadata": {},
     "output_type": "execute_result"
    },
    {
     "data": {
      "image/png": "[encoded data removed]",
      "text/plain": [
       "<Figure size 640x480 with 1 Axes>"
      ]
     },
     "metadata": {},
     "output_type": "display_data"
    }
   ],
   "source": [
    "df_vendas.sort_values(\"qtd\", ascending=True).plot.barh(x=\"categoria\",y=\"qtd\")"
   ]
  },
  {
   "cell_type": "markdown",
   "id": "f87a1394",
   "metadata": {},
   "source": [
    "### Gráfico de linha"
   ]
  },
  {
   "cell_type": "code",
   "execution_count": 38,
   "id": "61338295",
   "metadata": {},
   "outputs": [],
   "source": [
    "dic_faturamento = { \"data\": [\"2020-01-01\", \"2021-01-01\", \"2022-01-01\", \"2023-01-01\", \"2024-01-01\"],\n",
    "                   \"valor\": [\"100000\", \"200000\", \"150000\", \"300000\", \"350000\"]\n",
    "                   }"
   ]
  },
  {
   "cell_type": "code",
   "execution_count": 40,
   "id": "ac3db851",
   "metadata": {},
   "outputs": [],
   "source": [
    "df_faturamento = pd.DataFrame(dic_faturamento)"
   ]
  },
  {
   "cell_type": "code",
   "execution_count": 41,
   "id": "cdd87da1",
   "metadata": {},
   "outputs": [
    {
     "data": {
      "text/html": [
       "<div>\n",
       "<style scoped>\n",
       "    .dataframe tbody tr th:only-of-type {\n",
       "        vertical-align: middle;\n",
       "    }\n",
       "\n",
       "    .dataframe tbody tr th {\n",
       "        vertical-align: top;\n",
       "    }\n",
       "\n",
       "    .dataframe thead th {\n",
       "        text-align: right;\n",
       "    }\n",
       "</style>\n",
       "<table border=\"1\" class=\"dataframe\">\n",
       "  <thead>\n",
       "    <tr style=\"text-align: right;\">\n",
       "      <th></th>\n",
       "      <th>data</th>\n",
       "      <th>valor</th>\n",
       "    </tr>\n",
       "  </thead>\n",
       "  <tbody>\n",
       "    <tr>\n",
       "      <th>0</th>\n",
       "      <td>2020-01-01</td>\n",
       "      <td>100000</td>\n",
       "    </tr>\n",
       "    <tr>\n",
       "      <th>1</th>\n",
       "      <td>2021-01-01</td>\n",
       "      <td>200000</td>\n",
       "    </tr>\n",
       "    <tr>\n",
       "      <th>2</th>\n",
       "      <td>2022-01-01</td>\n",
       "      <td>150000</td>\n",
       "    </tr>\n",
       "    <tr>\n",
       "      <th>3</th>\n",
       "      <td>2023-01-01</td>\n",
       "      <td>300000</td>\n",
       "    </tr>\n",
       "    <tr>\n",
       "      <th>4</th>\n",
       "      <td>2024-01-01</td>\n",
       "      <td>350000</td>\n",
       "    </tr>\n",
       "  </tbody>\n",
       "</table>\n",
       "</div>"
      ],
      "text/plain": [
       "         data   valor\n",
       "0  2020-01-01  100000\n",
       "1  2021-01-01  200000\n",
       "2  2022-01-01  150000\n",
       "3  2023-01-01  300000\n",
       "4  2024-01-01  350000"
      ]
     },
     "execution_count": 41,
     "metadata": {},
     "output_type": "execute_result"
    }
   ],
   "source": [
    "df_faturamento"
   ]
  },
  {
   "cell_type": "code",
   "execution_count": 42,
   "id": "7dda649e",
   "metadata": {},
   "outputs": [
    {
     "name": "stdout",
     "output_type": "stream",
     "text": [
      "<class 'pandas.core.frame.DataFrame'>\n",
      "RangeIndex: 5 entries, 0 to 4\n",
      "Data columns (total 2 columns):\n",
      " #   Column  Non-Null Count  Dtype \n",
      "---  ------  --------------  ----- \n",
      " 0   data    5 non-null      object\n",
      " 1   valor   5 non-null      object\n",
      "dtypes: object(2)\n",
      "memory usage: 212.0+ bytes\n"
     ]
    }
   ],
   "source": [
    "df_faturamento.info()"
   ]
  },
  {
   "cell_type": "code",
   "execution_count": 44,
   "id": "ddb2687b",
   "metadata": {},
   "outputs": [
    {
     "data": {
      "text/plain": [
       "data     object\n",
       "valor    object\n",
       "dtype: object"
      ]
     },
     "execution_count": 44,
     "metadata": {},
     "output_type": "execute_result"
    }
   ],
   "source": [
    "df_faturamento.dtypes"
   ]
  },
  {
   "cell_type": "code",
   "execution_count": 49,
   "id": "3c8539b4",
   "metadata": {},
   "outputs": [],
   "source": [
    "#transformando de object para datetime64(data/dia/calendário)\n",
    "df_faturamento[\"data\"] = pd.to_datetime(df_faturamento[\"data\"])"
   ]
  },
  {
   "cell_type": "code",
   "execution_count": 50,
   "id": "593beabb",
   "metadata": {},
   "outputs": [
    {
     "data": {
      "text/plain": [
       "data     datetime64[ns]\n",
       "valor            object\n",
       "dtype: object"
      ]
     },
     "execution_count": 50,
     "metadata": {},
     "output_type": "execute_result"
    }
   ],
   "source": [
    "df_faturamento.dtypes"
   ]
  },
  {
   "cell_type": "code",
   "execution_count": 52,
   "id": "a9024287",
   "metadata": {},
   "outputs": [],
   "source": [
    "#transformando de object para numeric\n",
    "df_faturamento[\"valor\"] = pd.to_numeric(df_faturamento[\"valor\"])"
   ]
  },
  {
   "cell_type": "code",
   "execution_count": 53,
   "id": "faa23873",
   "metadata": {},
   "outputs": [
    {
     "data": {
      "text/plain": [
       "data     datetime64[ns]\n",
       "valor             int64\n",
       "dtype: object"
      ]
     },
     "execution_count": 53,
     "metadata": {},
     "output_type": "execute_result"
    }
   ],
   "source": [
    "df_faturamento.dtypes"
   ]
  },
  {
   "cell_type": "code",
   "execution_count": 54,
   "id": "f4dd7bd1",
   "metadata": {},
   "outputs": [
    {
     "data": {
      "text/plain": [
       "<Axes: xlabel='data'>"
      ]
     },
     "execution_count": 54,
     "metadata": {},
     "output_type": "execute_result"
    },
    {
     "data": {
      "image/png": "[encoded data removed]",
      "text/plain": [
       "<Figure size 640x480 with 1 Axes>"
      ]
     },
     "metadata": {},
     "output_type": "display_data"
    }
   ],
   "source": [
    "df_faturamento.plot.line(x=\"data\", y=\"valor\")"
   ]
  }
 ],
 "metadata": {
  "kernelspec": {
   "display_name": ".venv (3.13.5)",
   "language": "python",
   "name": "python3"
  },
  "language_info": {
   "codemirror_mode": {
    "name": "ipython",
    "version": 3
   },
   "file_extension": ".py",
   "mimetype": "text/x-python",
   "name": "python",
   "nbconvert_exporter": "python",
   "pygments_lexer": "ipython3",
   "version": "3.13.5"
  }
 },
 "nbformat": 4,
 "nbformat_minor": 5
}
