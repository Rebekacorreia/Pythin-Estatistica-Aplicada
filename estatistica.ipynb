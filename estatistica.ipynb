{
 "cells": [
  {
   "cell_type": "code",
   "execution_count": 1,
   "id": "5d93d7cc",
   "metadata": {},
   "outputs": [],
   "source": [
    "import pandas as pd"
   ]
  },
  {
   "cell_type": "code",
   "execution_count": 2,
   "id": "e35cefa9",
   "metadata": {},
   "outputs": [
    {
     "data": {
      "text/plain": [
       "'2.3.1'"
      ]
     },
     "execution_count": 2,
     "metadata": {},
     "output_type": "execute_result"
    }
   ],
   "source": [
    "pd.__version__"
   ]
  },
  {
   "cell_type": "markdown",
   "id": "0ca86fca",
   "metadata": {},
   "source": [
    "## Definindo os Dados"
   ]
  },
  {
   "cell_type": "code",
   "execution_count": 3,
   "id": "7c2b1c41",
   "metadata": {},
   "outputs": [],
   "source": [
    "dict_metrics = {\"idade\": [15,18,25,26,40,40,58,60],\n",
    "                \"altura\": [160,165,149,168,172,174,174,178]}"
   ]
  },
  {
   "cell_type": "code",
   "execution_count": 4,
   "id": "f3b4493d",
   "metadata": {},
   "outputs": [
    {
     "data": {
      "text/plain": [
       "dict"
      ]
     },
     "execution_count": 4,
     "metadata": {},
     "output_type": "execute_result"
    }
   ],
   "source": [
    "type(dict_metrics)\n",
    "#dict = dicionário"
   ]
  },
  {
   "cell_type": "code",
   "execution_count": 5,
   "id": "ef27e0f2",
   "metadata": {},
   "outputs": [],
   "source": [
    "df = pd.DataFrame(dict_metrics)"
   ]
  },
  {
   "cell_type": "code",
   "execution_count": 6,
   "id": "e06be6c7",
   "metadata": {},
   "outputs": [
    {
     "data": {
      "text/plain": [
       "pandas.core.frame.DataFrame"
      ]
     },
     "execution_count": 6,
     "metadata": {},
     "output_type": "execute_result"
    }
   ],
   "source": [
    "type(df)"
   ]
  },
  {
   "cell_type": "code",
   "execution_count": 7,
   "id": "e933f5ad",
   "metadata": {},
   "outputs": [
    {
     "data": {
      "text/html": [
       "<div>\n",
       "<style scoped>\n",
       "    .dataframe tbody tr th:only-of-type {\n",
       "        vertical-align: middle;\n",
       "    }\n",
       "\n",
       "    .dataframe tbody tr th {\n",
       "        vertical-align: top;\n",
       "    }\n",
       "\n",
       "    .dataframe thead th {\n",
       "        text-align: right;\n",
       "    }\n",
       "</style>\n",
       "<table border=\"1\" class=\"dataframe\">\n",
       "  <thead>\n",
       "    <tr style=\"text-align: right;\">\n",
       "      <th></th>\n",
       "      <th>idade</th>\n",
       "      <th>altura</th>\n",
       "    </tr>\n",
       "  </thead>\n",
       "  <tbody>\n",
       "    <tr>\n",
       "      <th>0</th>\n",
       "      <td>15</td>\n",
       "      <td>160</td>\n",
       "    </tr>\n",
       "    <tr>\n",
       "      <th>1</th>\n",
       "      <td>18</td>\n",
       "      <td>165</td>\n",
       "    </tr>\n",
       "    <tr>\n",
       "      <th>2</th>\n",
       "      <td>25</td>\n",
       "      <td>149</td>\n",
       "    </tr>\n",
       "    <tr>\n",
       "      <th>3</th>\n",
       "      <td>26</td>\n",
       "      <td>168</td>\n",
       "    </tr>\n",
       "    <tr>\n",
       "      <th>4</th>\n",
       "      <td>40</td>\n",
       "      <td>172</td>\n",
       "    </tr>\n",
       "    <tr>\n",
       "      <th>5</th>\n",
       "      <td>40</td>\n",
       "      <td>174</td>\n",
       "    </tr>\n",
       "    <tr>\n",
       "      <th>6</th>\n",
       "      <td>58</td>\n",
       "      <td>174</td>\n",
       "    </tr>\n",
       "    <tr>\n",
       "      <th>7</th>\n",
       "      <td>60</td>\n",
       "      <td>178</td>\n",
       "    </tr>\n",
       "  </tbody>\n",
       "</table>\n",
       "</div>"
      ],
      "text/plain": [
       "   idade  altura\n",
       "0     15     160\n",
       "1     18     165\n",
       "2     25     149\n",
       "3     26     168\n",
       "4     40     172\n",
       "5     40     174\n",
       "6     58     174\n",
       "7     60     178"
      ]
     },
     "execution_count": 7,
     "metadata": {},
     "output_type": "execute_result"
    }
   ],
   "source": [
    "df"
   ]
  },
  {
   "cell_type": "markdown",
   "id": "c46d9bf2",
   "metadata": {},
   "source": [
    "### Medidas de posição\n",
    "- Média: Soma de todos os valores dividida pelo número de valores. Mais comum de tendência central, pode ser sensível a valores extremos\n",
    "- Mediana: É o valor do meio quando os dados estão ordenados. Ela não sofre por valores externos.\n",
    "- Moda: É o valor com mais repetições. É útil em dados categóricos ou quando deseja-se identificar valores com maior frequência."
   ]
  },
  {
   "cell_type": "code",
   "execution_count": 8,
   "id": "7e11b93f",
   "metadata": {},
   "outputs": [
    {
     "data": {
      "text/plain": [
       "0    15\n",
       "1    18\n",
       "2    25\n",
       "3    26\n",
       "4    40\n",
       "5    40\n",
       "6    58\n",
       "7    60\n",
       "Name: idade, dtype: int64"
      ]
     },
     "execution_count": 8,
     "metadata": {},
     "output_type": "execute_result"
    }
   ],
   "source": [
    "df[\"idade\"]"
   ]
  },
  {
   "cell_type": "code",
   "execution_count": 9,
   "id": "e596f048",
   "metadata": {},
   "outputs": [
    {
     "name": "stdout",
     "output_type": "stream",
     "text": [
      "Média de idade: 35.25\n",
      "Média da altura: 167.5\n"
     ]
    }
   ],
   "source": [
    "#media idade\n",
    "print(f\"Média de idade: {df[\"idade\"].mean()}\")\n",
    "#media altura\n",
    "print(f\"Média da altura: {df[\"altura\"].mean()}\")"
   ]
  },
  {
   "cell_type": "code",
   "execution_count": null,
   "id": "f45a0396",
   "metadata": {},
   "outputs": [
    {
     "name": "stdout",
     "output_type": "stream",
     "text": [
      "Mediana de idade: 33.0\n",
      "Moda de altura: 170.0\n"
     ]
    }
   ],
   "source": [
    "#mediana idade\n",
    "print(f\"Mediana de idade: {df[\"idade\"].median()}\")\n",
    "#mediana altura\n",
    "print(f\"Moda de altura: {df[\"altura\"].median()}\")"
   ]
  },
  {
   "cell_type": "code",
   "execution_count": null,
   "id": "ae11c92e",
   "metadata": {},
   "outputs": [
    {
     "name": "stdout",
     "output_type": "stream",
     "text": [
      "Moda de idade: 0    40\n",
      "Name: idade, dtype: int64\n",
      "Moda de altura: 0    174\n",
      "Name: altura, dtype: int64\n"
     ]
    }
   ],
   "source": [
    "#moda idade\n",
    "print(f\"Moda de idade: {df[\"idade\"].mode()}\")\n",
    "#moda altura\n",
    "print(f\"Moda de altura: {df[\"altura\"].mode()}\")"
   ]
  },
  {
   "cell_type": "markdown",
   "id": "ec382a3c",
   "metadata": {},
   "source": [
    "### Medidas de Dispersão\n",
    "- Variância: Média dos quadrados entre cada valor e a média. Informa a distância dos valores da média.\n",
    "- Desvio Padrão: Raiz quadrada da variância. Expressa a dispersão em termos da mesma unidade dos dados.\n",
    "- Coeficiente de variação: Desvio padrão dividido pela média, expresso em porcentagem. Indica a variabilidade relativa dos dados em relação a média."
   ]
  },
  {
   "cell_type": "code",
   "execution_count": 12,
   "id": "79dda2f7",
   "metadata": {},
   "outputs": [
    {
     "name": "stdout",
     "output_type": "stream",
     "text": [
      "Variância de idade: 296.2142857142857\n",
      "Variância de altura: 88.57142857142857\n"
     ]
    }
   ],
   "source": [
    "#variância de idade\n",
    "print(f\"Variância de idade: {df[\"idade\"].var()}\")\n",
    "#variância de altura\n",
    "print(f\"Variância de altura: {df[\"altura\"].var()}\")"
   ]
  },
  {
   "cell_type": "code",
   "execution_count": 13,
   "id": "09069aaf",
   "metadata": {},
   "outputs": [
    {
     "name": "stdout",
     "output_type": "stream",
     "text": [
      "Desvio padrão de idade 17.210876959477854\n",
      "Desvio padrão de altura: 9.411239481143202\n"
     ]
    }
   ],
   "source": [
    "#Desvio padrão de idade\n",
    "print(f\"Desvio padrão de idade {df[\"idade\"].std()}\")\n",
    "#desvio padrão de altura\n",
    "print(f\"Desvio padrão de altura: {df[\"altura\"].std()}\")\n"
   ]
  },
  {
   "cell_type": "code",
   "execution_count": 14,
   "id": "32a523d6",
   "metadata": {},
   "outputs": [
    {
     "data": {
      "text/plain": [
       "np.float64(48.82518286376696)"
      ]
     },
     "execution_count": 14,
     "metadata": {},
     "output_type": "execute_result"
    }
   ],
   "source": [
    "#Coeficiciente de variação de idade\n",
    "df[\"idade\"].std() / df[\"idade\"].mean() * 100"
   ]
  },
  {
   "cell_type": "code",
   "execution_count": 15,
   "id": "7329704b",
   "metadata": {},
   "outputs": [
    {
     "data": {
      "text/plain": [
       "np.float64(5.618650436503405)"
      ]
     },
     "execution_count": 15,
     "metadata": {},
     "output_type": "execute_result"
    }
   ],
   "source": [
    "#Coeficiciente de variação de altura\n",
    "df[\"altura\"].std() / df[\"altura\"].mean() * 100"
   ]
  },
  {
   "cell_type": "markdown",
   "id": "5f1ae2c6",
   "metadata": {},
   "source": [
    "### Medidas de Forma (distribuição dos Dados)\n",
    "- Assimetria: Indica o grau e direção da distorção da distribuição em relação a média. Se Positiva, indica a cauda direita a distribuição mais longa, o oposto, indica a causa esquerda mais longa\n",
    "- Curtose: Mede o pico ou \"pontuação\" da distribuição. Uma curtose alta indica uma distribuição mais concentrada, o oposto indica a distribuição achatada"
   ]
  },
  {
   "cell_type": "code",
   "execution_count": 16,
   "id": "d5324598",
   "metadata": {},
   "outputs": [
    {
     "data": {
      "text/html": [
       "<div>\n",
       "<style scoped>\n",
       "    .dataframe tbody tr th:only-of-type {\n",
       "        vertical-align: middle;\n",
       "    }\n",
       "\n",
       "    .dataframe tbody tr th {\n",
       "        vertical-align: top;\n",
       "    }\n",
       "\n",
       "    .dataframe thead th {\n",
       "        text-align: right;\n",
       "    }\n",
       "</style>\n",
       "<table border=\"1\" class=\"dataframe\">\n",
       "  <thead>\n",
       "    <tr style=\"text-align: right;\">\n",
       "      <th></th>\n",
       "      <th>idade</th>\n",
       "      <th>altura</th>\n",
       "    </tr>\n",
       "  </thead>\n",
       "  <tbody>\n",
       "    <tr>\n",
       "      <th>0</th>\n",
       "      <td>15</td>\n",
       "      <td>160</td>\n",
       "    </tr>\n",
       "    <tr>\n",
       "      <th>1</th>\n",
       "      <td>18</td>\n",
       "      <td>165</td>\n",
       "    </tr>\n",
       "    <tr>\n",
       "      <th>2</th>\n",
       "      <td>25</td>\n",
       "      <td>149</td>\n",
       "    </tr>\n",
       "    <tr>\n",
       "      <th>3</th>\n",
       "      <td>26</td>\n",
       "      <td>168</td>\n",
       "    </tr>\n",
       "    <tr>\n",
       "      <th>4</th>\n",
       "      <td>40</td>\n",
       "      <td>172</td>\n",
       "    </tr>\n",
       "    <tr>\n",
       "      <th>5</th>\n",
       "      <td>40</td>\n",
       "      <td>174</td>\n",
       "    </tr>\n",
       "    <tr>\n",
       "      <th>6</th>\n",
       "      <td>58</td>\n",
       "      <td>174</td>\n",
       "    </tr>\n",
       "    <tr>\n",
       "      <th>7</th>\n",
       "      <td>60</td>\n",
       "      <td>178</td>\n",
       "    </tr>\n",
       "  </tbody>\n",
       "</table>\n",
       "</div>"
      ],
      "text/plain": [
       "   idade  altura\n",
       "0     15     160\n",
       "1     18     165\n",
       "2     25     149\n",
       "3     26     168\n",
       "4     40     172\n",
       "5     40     174\n",
       "6     58     174\n",
       "7     60     178"
      ]
     },
     "execution_count": 16,
     "metadata": {},
     "output_type": "execute_result"
    }
   ],
   "source": [
    "df"
   ]
  },
  {
   "cell_type": "code",
   "execution_count": null,
   "id": "04afb7e3",
   "metadata": {},
   "outputs": [],
   "source": []
  }
 ],
 "metadata": {
  "kernelspec": {
   "display_name": ".venv (3.13.5)",
   "language": "python",
   "name": "python3"
  },
  "language_info": {
   "codemirror_mode": {
    "name": "ipython",
    "version": 3
   },
   "file_extension": ".py",
   "mimetype": "text/x-python",
   "name": "python",
   "nbconvert_exporter": "python",
   "pygments_lexer": "ipython3",
   "version": "3.13.5"
  }
 },
 "nbformat": 4,
 "nbformat_minor": 5
}
